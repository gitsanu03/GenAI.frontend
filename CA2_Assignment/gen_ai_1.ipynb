{
  "cells": [
    {
      "cell_type": "code",
      "execution_count": 1,
      "metadata": {
        "id": "uhxxlyPlnnZk"
      },
      "outputs": [],
      "source": [
        "import pandas as pd\n",
        "import random"
      ]
    },
    {
      "cell_type": "code",
      "execution_count": 2,
      "metadata": {
        "id": "vY2tXIEfoJbS"
      },
      "outputs": [],
      "source": [
        "num_records = 100"
      ]
    },
    {
      "cell_type": "code",
      "execution_count": 3,
      "metadata": {
        "id": "mCZoBqhLoIXq"
      },
      "outputs": [],
      "source": [
        "data = {\n",
        "    'fever': [round(random.uniform(95, 105), 1) for _ in range(num_records)],  # Fever (95°F to 105°F)\n",
        "    'cold': [random.randint(0, 1) for _ in range(num_records)],  # Cold (binary: 0 or 1)\n",
        "    'shivering': [random.randint(0, 1) for _ in range(num_records)],  # Shivering (binary: 0 or 1)\n",
        "    'weight_loss': [round(random.uniform(0, 10), 2) for _ in range(num_records)]  # Weight loss (0% to 10%)\n",
        "}\n"
      ]
    },
    {
      "cell_type": "code",
      "execution_count": 4,
      "metadata": {
        "id": "pT_Itsmfr9HF"
      },
      "outputs": [],
      "source": [
        "df = pd.DataFrame(data)"
      ]
    },
    {
      "cell_type": "code",
      "execution_count": 5,
      "metadata": {
        "id": "gxCDOtqmr9Ds"
      },
      "outputs": [],
      "source": [
        "def sort_data(parameter):\n",
        "    if parameter not in df.columns:\n",
        "        return f\"Error: {parameter} is not a valid column name.\"\n",
        "\n",
        "    sorted_df = df.sort_values(by=parameter, ascending=True)\n",
        "    return sorted_df"
      ]
    },
    {
      "cell_type": "code",
      "execution_count": 6,
      "metadata": {
        "colab": {
          "base_uri": "https://localhost:8080/"
        },
        "id": "SmnLnCSXr9Ai",
        "outputId": "09e462d4-dc0a-4494-e96e-ffdd41cf04ca"
      },
      "outputs": [
        {
          "name": "stdout",
          "output_type": "stream",
          "text": [
            "Available parameters to sort by: 'fever', 'cold', 'shivering', 'weight_loss'\n",
            "Enter the parameter by which you want to sort: fever\n",
            "    fever  cold  shivering  weight_loss\n",
            "3    95.1     1          0         8.10\n",
            "18   95.1     0          1         1.88\n",
            "56   95.3     0          1         9.71\n",
            "52   95.4     1          1         2.09\n",
            "36   95.5     1          0         8.75\n",
            "27   95.6     1          1         5.39\n",
            "81   95.6     1          1         6.08\n",
            "24   95.8     0          1         2.80\n",
            "8    95.8     1          1         9.18\n",
            "87   95.8     1          1         2.86\n"
          ]
        }
      ],
      "source": [
        "if __name__ == \"__main__\":\n",
        "    print(\"Available parameters to sort by: 'fever', 'cold', 'shivering', 'weight_loss'\")\n",
        "    parameter = input(\"Enter the parameter by which you want to sort: \")\n",
        "\n",
        "    result = sort_data(parameter)\n",
        "\n",
        "    if isinstance(result, str):\n",
        "        print(result)\n",
        "    else:\n",
        "        print(result.head(10))"
      ]
    },
    {
      "cell_type": "code",
      "execution_count": 7,
      "metadata": {
        "id": "GCcZAAler89d"
      },
      "outputs": [],
      "source": [
        "def calculate_minimum_balance(transactions):\n",
        "    balance = 0\n",
        "    min_balance = float('inf')\n",
        "    for transaction in transactions:\n",
        "        balance += transaction\n",
        "        if balance < min_balance:\n",
        "            min_balance = balance\n",
        "    return min_balance\n"
      ]
    },
    {
      "cell_type": "code",
      "execution_count": 8,
      "metadata": {
        "id": "CeAIXKME1wkG"
      },
      "outputs": [],
      "source": [
        "def calculate_interest(min_balances, annual_interest_rate):\n",
        "    total_min_balances = sum(min_balances)\n",
        "    annual_interest = total_min_balances * (annual_interest_rate / 100)\n",
        "    monthly_interest = annual_interest / 12\n",
        "    interest_for_six_months = monthly_interest * 6\n",
        "    return interest_for_six_months"
      ]
    },
    {
      "cell_type": "code",
      "execution_count": 9,
      "metadata": {
        "id": "JJeqvgLi1whP"
      },
      "outputs": [],
      "source": [
        "def simulate_bank_account(annual_interest_rate):\n",
        "    transactions_per_month = [\n",
        "        [1000, -500, 200],   # Month 1 transactions\n",
        "        [1500, -1000, 300],  # Month 2 transactions\n",
        "        [-400, 500],         # Month 3 transactions\n",
        "        [-1000, 2000, -500], # Month 4 transactions\n",
        "        [800, -300],         # Month 5 transactions\n",
        "        [-100, 150]          # Month 6 transactions\n",
        "    ]\n",
        "\n",
        "    min_balances = []\n",
        "    for month_transactions in transactions_per_month:\n",
        "        min_balance = calculate_minimum_balance(month_transactions)\n",
        "        min_balances.append(min_balance)\n",
        "        print(f\"Minimum balance for the month: {min_balance}\")\n",
        "\n",
        "    interest = calculate_interest(min_balances, annual_interest_rate)\n",
        "    print(f\"Total interest for 6 months: {interest:.2f}\")"
      ]
    },
    {
      "cell_type": "code",
      "execution_count": 10,
      "metadata": {
        "colab": {
          "base_uri": "https://localhost:8080/"
        },
        "id": "241VI87f1weY",
        "outputId": "3cfd3530-e487-41f0-98c0-19441a44c3bc"
      },
      "outputs": [
        {
          "name": "stdout",
          "output_type": "stream",
          "text": [
            "Enter the annual interest rate (e.g., 4.5): 4.5\n",
            "Minimum balance for the month: 500\n",
            "Minimum balance for the month: 500\n",
            "Minimum balance for the month: -400\n",
            "Minimum balance for the month: -1000\n",
            "Minimum balance for the month: 500\n",
            "Minimum balance for the month: -100\n",
            "Total interest for 6 months: 0.00\n"
          ]
        }
      ],
      "source": [
        "if __name__ == \"__main__\":\n",
        "    annual_interest_rate = float(input(\"Enter the annual interest rate (e.g., 4.5): \"))\n",
        "    simulate_bank_account(annual_interest_rate)"
      ]
    },
    {
      "cell_type": "code",
      "execution_count": 10,
      "metadata": {
        "id": "CtR4nKGT1wY7"
      },
      "outputs": [],
      "source": []
    },
    {
      "cell_type": "code",
      "execution_count": null,
      "metadata": {
        "id": "Jon8ijo21wVD"
      },
      "outputs": [],
      "source": []
    }
  ],
  "metadata": {
    "colab": {
      "provenance": []
    },
    "kernelspec": {
      "display_name": "Python 3",
      "name": "python3"
    },
    "language_info": {
      "name": "python"
    }
  },
  "nbformat": 4,
  "nbformat_minor": 0
}
